{
  "nbformat": 4,
  "nbformat_minor": 0,
  "metadata": {
    "colab": {
      "name": "30km_distance.ipynb",
      "provenance": [],
      "collapsed_sections": []
    },
    "kernelspec": {
      "display_name": "Python 3",
      "name": "python3",
      "language": "python"
    }
  },
  "cells": [
    {
      "source": [
        "# 30cappa sul percorso stradale \n",
        "## analisi valida per il Trentino sull'ordinanza numero 69 del 2020"
      ],
      "cell_type": "markdown",
      "metadata": {}
    },
    {
      "cell_type": "code",
      "metadata": {
        "colab": {
          "base_uri": "https://localhost:8080/"
        },
        "id": "SVGDIcuNYgq-",
        "outputId": "4de24a53-d316-4f12-dbe9-3491ece38ba3"
      },
      "source": [
        "import rtree\n",
        "import pandas as pd\n",
        "import numpy as np\n",
        "import geopandas as gpd\n",
        "import openrouteservice\n",
        "import matplotlib.pyplot as plt\n",
        "import time\n",
        "import json\n",
        "import os, glob\n",
        "from shapely import geometry\n",
        "pd.options.mode.chained_assignment = None"
      ],
      "execution_count": 1,
      "outputs": []
    },
    {
      "source": [
        "# import dei dati\n",
        "- i confini comunali del Trentino derivano dai dati ISTAT del 2020\n",
        "- il grafo stradale deriva da OpenStreetMap"
      ],
      "cell_type": "markdown",
      "metadata": {}
    },
    {
      "cell_type": "code",
      "metadata": {
        "id": "8WJibOYOlgfv"
      },
      "source": [
        "comuni_trentini_url = \"https://github.com/napo/pat30k/raw/main/data/comuni_trentini.gpkg\"\n",
        "roads_url =\"https://github.com/napo/pat30k/raw/main/data/trentino_roads_osm.gpkg\""
      ],
      "execution_count": 2,
      "outputs": []
    },
    {
      "cell_type": "code",
      "metadata": {
        "id": "Izf_Ru_ZhmHe"
      },
      "source": [
        "comuni_trentini = gpd.read_file(comuni_trentini_url)"
      ],
      "execution_count": 3,
      "outputs": []
    },
    {
      "source": [
        "creazione dei confini provinciali"
      ],
      "cell_type": "markdown",
      "metadata": {}
    },
    {
      "cell_type": "code",
      "execution_count": 4,
      "metadata": {},
      "outputs": [],
      "source": [
        "confini_pat = comuni_trentini.dissolve()\n",
        "confine_trento = comuni_trentini[comuni_trentini.PRO_COM_T=='022205']\n",
        "confine_trento = confine_trento.to_crs(epsg=4326)\n",
        "confine_trento.to_file(\"trento.geojson\",driver=\"GeoJSON\")"
      ]
    },
    {
      "source": [
        "## preparazione dei dati\n",
        "l'ordinanza fa riferimento ai comuni fino a 6000 abitanti (dati ISTAT al 01/01/2020)"
      ],
      "cell_type": "markdown",
      "metadata": {}
    },
    {
      "cell_type": "code",
      "metadata": {
        "id": "EGjk1bSaa4E4"
      },
      "source": [
        "comuni_under6000 = comuni_trentini[comuni_trentini.POPOLAZIONE <= 6000]"
      ],
      "execution_count": 5,
      "outputs": []
    },
    {
      "source": [
        "i dati ISTAT sono proiettati in UTM32N (WGS84)"
      ],
      "cell_type": "markdown",
      "metadata": {}
    },
    {
      "cell_type": "code",
      "metadata": {
        "id": "h5WDWljdzl5O"
      },
      "source": [
        "comuni_under6000 = comuni_under6000.to_crs(epsg=4326)"
      ],
      "execution_count": 6,
      "outputs": []
    },
    {
      "source": [
        "i dati OpenStreetMap sono utilizzati per individuare i punti di accesso sulconfine comunale"
      ],
      "cell_type": "markdown",
      "metadata": {}
    },
    {
      "cell_type": "code",
      "metadata": {
        "id": "lzqTpcqAr4QU"
      },
      "source": [
        "roads_osm_pat = gpd.read_file(roads_url)"
      ],
      "execution_count": 7,
      "outputs": []
    },
    {
      "source": [
        "si scelgono i punti di accesso su strade percorribili da auto: è necessario quindi evitare percorsi di montagna, strade abbandoante, sentieri ecc..."
      ],
      "cell_type": "markdown",
      "metadata": {}
    },
    {
      "source": [
        "exclude_highway=['footway','bridleway','rest_area','abandoned','ohm:military:Trench','steps','via_ferrata','elevator','proposed','disused','platform','raceway','path','construction','pedestrian','cycleway','track']"
      ],
      "cell_type": "code",
      "metadata": {},
      "execution_count": 8,
      "outputs": []
    },
    {
      "source": [
        "roads_osm_pat = roads_osm_pat[~roads_osm_pat.isin(exclude_highway)]"
      ],
      "cell_type": "code",
      "metadata": {},
      "execution_count": 9,
      "outputs": []
    },
    {
      "source": [
        "alcune strade sembrano non essere classificate, quindi è opportuno eliminarle"
      ],
      "cell_type": "markdown",
      "metadata": {}
    },
    {
      "cell_type": "code",
      "execution_count": 10,
      "metadata": {},
      "outputs": [],
      "source": [
        "roads_osm_pat = roads_osm_pat[roads_osm_pat.highway.notnull()]"
      ]
    },
    {
      "source": [
        "# Calcolo delle isodistanze a 30km\n",
        "- il calcolo è fatto usando OpenRouteService su una istanza personale\n",
        "- i punti scelti per il calcolo dell'isodistanza sono quelli del punto di intersezione fra il confine e le strade"
      ],
      "cell_type": "markdown",
      "metadata": {}
    },
    {
      "source": [
        "## uso di OpenRouteService\n",
        "- per l'installazione di OpenRouteService seguire la documentazione ufficiale\n",
        "- i dati scelti per il calcolo sono basati a partire dal confine della Provincia autonoma di Trento con un buffer di 40km con una estrazione da Geofabrik"
      ],
      "cell_type": "markdown",
      "metadata": {}
    },
    {
      "source": [
        "**getPolygon(pp)**: \n",
        "- calcolo dell'istodistanza di 30km a partire da un punto (pp) utilizzando l'istanza in locale  (http://locahost:8080/ors) di OpenRouteService"
      ],
      "cell_type": "markdown",
      "metadata": {}
    },
    {
      "cell_type": "code",
      "execution_count": 11,
      "metadata": {},
      "outputs": [],
      "source": [
        "def getPolygon(pp):\n",
        "    params_iso = {'profile': 'driving-car',\n",
        "              'range': [30000], \n",
        "              'range_type': \"distance\",\n",
        "              'interval': 30000\n",
        "             }\n",
        "    orsclient = openrouteservice.Client(base_url='http://localhost:8080/ors')\n",
        "    params_iso['locations'] = [pp]\n",
        "    out = None\n",
        "    polygon = None\n",
        "    try:\n",
        "        out = orsclient.isochrones(**params_iso)\n",
        "    except Exception as e:\n",
        "        print(\"errore nelle coordinate \")\n",
        "        print(pp)\n",
        "        print(e)\n",
        "        pass\n",
        "    if out is not None:\n",
        "        points_poly = out[\"features\"][0]['geometry']['coordinates']\n",
        "        polygon = geometry.Polygon(points_poly[0])\n",
        "    return(polygon)"
      ]
    },
    {
      "source": [
        "**comunearea30km(idcomune,strade_union)**: q\n",
        "- estrazione dei confini del singolo comune (a partire dal codice ISTAT)\n",
        "- trasformazioen dei poligoni in linee\n",
        "- individuazione dei punti di accesso al confine comunale intersecando con l'insieme delle strade **strade_unione** = la geometria MultiLineString che contiene tutte le strade calcolate con la funzione **roads_osm_pat.unary_union**"
      ],
      "cell_type": "markdown",
      "metadata": {}
    },
    {
      "cell_type": "code",
      "metadata": {
        "id": "2ufTEzEziJTj"
      },
      "source": [
        "def comunearea30km(idcomune,strade_union):\n",
        "  comune = comuni_under6000[comuni_under6000.PRO_COM_T==idcomune]\n",
        "  poligoni_comune = comune.explode()\n",
        "  linee_comune = poligoni_comune.exterior\n",
        "  linee_comune = gpd.GeoDataFrame(geometry=linee_comune,crs=\"EPSG:4326\")\n",
        "  accessi_comune = linee_comune.unary_union.intersection(strade_union)\n",
        "  punti_accesso_comune = []\n",
        "  polygons = []\n",
        "  k = 0\n",
        "  if (accessi_comune.geom_type == 'Point'):\n",
        "    p = [accessi_comune.x,accessi_comune.y]\n",
        "    punti_accesso_comune.append(p)\n",
        "    polygon = getPolygon(p)\n",
        "    if (polygon is not None):\n",
        "      polygons.append(polygon)\n",
        "      k += 1\n",
        "  else:\n",
        "    for point in accessi_comune:\n",
        "      p = [point.x,point.y]\n",
        "      punti_accesso_comune.append(p)\n",
        "      polygon = getPolygon(p)\n",
        "      if (polygon is not None):\n",
        "        polygons.append(polygon)\n",
        "        k += 1\n",
        "  area = gpd.GeoDataFrame(geometry=polygons,crs=\"EPSG:4326\")\n",
        "  return(area)"
      ],
      "execution_count": 12,
      "outputs": []
    },
    {
      "source": [
        "## calcolo delle isodistanze\n",
        "applicazione delle due funzioni disegnate sopra dall'elenco dei codici ISTAT dei comuni\n",
        "\n",
        "\n",
        "### note \n",
        "- le aree calcolate per ogni punto di accesso vengono unite in una sola geometria (**dissolve**)\n",
        "- vengono segnalati eventuali errori nel caso in cui OpenRouteService non sia in grado di calcolare l'isodistanza\n",
        "- ogni area viene salvata nella directory \"**data**\""
      ],
      "cell_type": "markdown",
      "metadata": {}
    },
    {
      "cell_type": "code",
      "metadata": {
        "id": "_O7THalAg4RV"
      },
      "source": [
        "strade_union = roads_osm_pat.unary_union\n",
        "comuni = comuni_under6000.PRO_COM_T.unique()"
      ],
      "execution_count": 21,
      "outputs": []
    },
    {
      "cell_type": "code",
      "metadata": {
        "colab": {
          "background_save": true,
          "base_uri": "https://localhost:8080/"
        },
        "id": "Y_g3oAhcLGfo",
        "outputId": "7a3f92c5-7ac4-4adc-c9da-e08930251502",
        "tags": []
      },
      "source": [
        "for idcomune in comuni:\n",
        "  print(\"calcolo della isodistanza per ... \" + idcomune)\n",
        "  comune = comuni_under6000[comuni_under6000.PRO_COM_T == idcomune]\n",
        "  filename = idcomune + \".geojson\"\n",
        "  area = comunearea30km(idcomune,strade_union)\n",
        "  area.dissolve().to_file(\"data\" + os.sep + filename,driver=\"GeoJSON\")"
      ],
      "execution_count": 22,
      "outputs": [
        {
          "output_type": "stream",
          "name": "stdout",
          "text": [
            "calcolo della isodistanza per ... 022009\n"
          ]
        }
      ]
    },
    {
      "cell_type": "code",
      "execution_count": 23,
      "metadata": {},
      "outputs": [],
      "source": [
        "os.chdir('data')\n",
        "geojson_files = glob.glob(\"*.geojson\")\n",
        "os.chdir(\"..\")\n",
        "areasdata = \"data\" + os.sep + \"areas30km\"\n",
        "if not os.path.exists(areasdata):\n",
        "    os.makedirs(areasdata)"
      ]
    },
    {
      "source": [
        "## applicazione delle regole dell'ordinanza\n",
        "- **ci si può muovere alĺ'interno del confine comunale**\n",
        "- **non si può andare verso i comuni capoluogo\"*"
      ],
      "cell_type": "markdown",
      "metadata": {}
    },
    {
      "source": [
        "caricamento dei confini dei comuni capoluogo confinanti con la Provincia autonoma di Trento"
      ],
      "cell_type": "markdown",
      "metadata": {}
    },
    {
      "cell_type": "code",
      "execution_count": 19,
      "metadata": {},
      "outputs": [],
      "source": [
        "confine_verona = gpd.read_file('data' + os.sep + \"verona.geojson\")\n",
        "confine_belluno = gpd.read_file('data' + os.sep + \"belluno.geojson\")\n",
        "confine_bolzano = gpd.read_file('data' + os.sep + 'bolzano.geojson')\n",
        "exclude = []\n",
        "exclude.append(\"verona\")\n",
        "exclude.append(\"belluno\")\n",
        "exclude.append(\"bolzano\")\n",
        "exclude.append(\"trento\")"
      ]
    },
    {
      "source": [
        "**getGeometry(comune_id)**\n",
        "- unione delle aree dei confini comunali all'area della isodistanza"
      ],
      "cell_type": "markdown",
      "metadata": {}
    },
    {
      "cell_type": "code",
      "execution_count": 17,
      "metadata": {},
      "outputs": [],
      "source": [
        "def getGeometry(comune_id):\n",
        "    geocomune = comuni_under6000[comuni_under6000.PRO_COM_T == comune_id]\n",
        "    geocomune30k = gpd.read_file('data' + os.sep + comune_id + \".geojson\")\n",
        "    unionecomune30k = gpd.overlay(geocomune30k, geocomune, how='union').dissolve()\n",
        "    unionecomune30k['CROSSTN'] = 0\n",
        "    unionecomune30k['OUTSIDE'] = 0\n",
        "    unionecomune30k['CROSSBL'] = 0\n",
        "    unionecomune30k['CROSSBZ'] = 0\n",
        "    area = unionecomune30k.geometry[unionecomune30k.index[0]]\n",
        "    trento = confine_trento.geometry[confine_trento.index[0]]\n",
        "    verona = confine_verona.geometry[confine_verona.index[0]]\n",
        "    belluno = confine_belluno.geometry[confine_belluno.index[0]]\n",
        "    bolzano = confine_bolzano.geometry[confine_bolzano.index[0]]\n",
        "    provincia = confini_pat.geometry[confini_pat.index[0]]\n",
        "    if (area.intersects(trento)):\n",
        "        print(\"removing the borders of Trento\")\n",
        "        unionecomune30k = gpd.overlay(unionecomune30k,confine_trento,how='difference')\n",
        "        unionecomune30k['CROSSTN'] = 1\n",
        "    if (area.intersects(verona)):\n",
        "        print(\"removing the borders of Verona\")\n",
        "        unionecomune30k = gpd.overlay(unionecomune30k,confine_verona,how='difference')\n",
        "        unionecomune30k['CROSSVR'] = 1\n",
        "    if (area.intersects(belluno)):\n",
        "        print(\"removing the borders of Belluno\")\n",
        "        unionecomune30k = gpd.overlay(unionecomune30k,confine_belluno,how=\"difference\")\n",
        "        unionecomune30k['CROSSBL'] = 1\n",
        "    if (area.intersects(bolzano)):\n",
        "        print(\"removing the borders of Bolzano\")\n",
        "        unionecomune30k = gpd.overlay(unionecomune30k,confine_bolzano,how=\"difference\")\n",
        "        unionecomune30k['CROSSBZ'] = 1\n",
        "    if (area.intersects(provincia)):\n",
        "        unionecomune30k['OUTSIDE'] = 1\n",
        "    return(unionecomune30k[['geometry','COMUNE','PRO_COM_T','CROSSTN','CROSSBL','CROSSBZ']])"
      ]
    },
    {
      "source": [
        "## applicazione del calcolo \n",
        "i file creati finiscono nella sotto-directory \"**area30km**\" di \"**data**\""
      ],
      "cell_type": "markdown",
      "metadata": {}
    },
    {
      "cell_type": "code",
      "execution_count": 26,
      "metadata": {},
      "outputs": [
        {
          "output_type": "stream",
          "name": "stdout",
          "text": [
            "analysing ... 022009\n",
            "removing the borders of Trento\n"
          ]
        }
      ],
      "source": [
        "for geojson in geojson_files:\n",
        "    comune_id = geojson.replace(\".geojson\",\"\")\n",
        "    print(\"analysing ... \" + comune_id)\n",
        "    if ((comune_id in exclude) == False):\n",
        "        filesize = os.stat(\"data\" + os.sep + geojson).st_size\n",
        "        if filesize > 194:\n",
        "            newgeom = getGeometry(comune_id)\n",
        "            filename = areasdata + os.sep + comune_id + \".geojson\"\n",
        "            newgeom.to_file(filename,driver=\"GeoJSON\")\n",
        "        else:\n",
        "            print(comune_id)"
      ]
    },
    {
      "cell_type": "code",
      "execution_count": 27,
      "metadata": {},
      "outputs": [
        {
          "output_type": "stream",
          "name": "stdout",
          "text": [
            "Finito\n"
          ]
        }
      ],
      "source": [
        "print(\"Finito\")"
      ]
    },
    {
      "cell_type": "code",
      "execution_count": null,
      "metadata": {},
      "outputs": [],
      "source": []
    }
  ]
}