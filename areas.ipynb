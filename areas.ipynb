{
 "metadata": {
  "language_info": {
   "codemirror_mode": {
    "name": "ipython",
    "version": 3
   },
   "file_extension": ".py",
   "mimetype": "text/x-python",
   "name": "python",
   "nbconvert_exporter": "python",
   "pygments_lexer": "ipython3",
   "version": "3.8.6-final"
  },
  "orig_nbformat": 2,
  "kernelspec": {
   "name": "python386jvsc74a57bd031f2aee4e71d21fbe5cf8b01ff0e069b9275f58929596ceb00d14d90e3e16cd6",
   "display_name": "Python 3.8.6 64-bit"
  },
  "metadata": {
   "interpreter": {
    "hash": "31f2aee4e71d21fbe5cf8b01ff0e069b9275f58929596ceb00d14d90e3e16cd6"
   }
  }
 },
 "nbformat": 4,
 "nbformat_minor": 2,
 "cells": [
  {
   "cell_type": "code",
   "execution_count": 20,
   "metadata": {},
   "outputs": [],
   "source": [
    "import rtree\n",
    "import geopandas as gpd\n",
    "import numpy as np\n",
    "import os, glob"
   ]
  },
  {
   "cell_type": "code",
   "execution_count": 21,
   "metadata": {},
   "outputs": [
    {
     "output_type": "stream",
     "name": "stderr",
     "text": [
      "/home/napo/.local/lib/python3.8/site-packages/geopandas/geodataframe.py:577: RuntimeWarning: Sequential read of iterator was interrupted. Resetting iterator. This can negatively impact the performance.\n  for feature in features_lst:\n"
     ]
    }
   ],
   "source": [
    "comuni_trentini = gpd.read_file('data' + os.sep + 'comuni_trentini.gpkg')"
   ]
  },
  {
   "cell_type": "code",
   "execution_count": 22,
   "metadata": {},
   "outputs": [],
   "source": [
    "comuni_trentini = comuni_trentini.to_crs(epsg=4326)"
   ]
  },
  {
   "cell_type": "code",
   "execution_count": 23,
   "metadata": {},
   "outputs": [],
   "source": [
    "confini_pat = comuni_trentini.dissolve()\n",
    "confini_pat.to_file(\"confini_pat.geojson\",driver=\"GeoJSON\")"
   ]
  },
  {
   "cell_type": "code",
   "execution_count": 24,
   "metadata": {},
   "outputs": [],
   "source": [
    "confine_trento = comuni_trentini[comuni_trentini.PRO_COM_T=='022205']\n",
    "confine_trento.to_file(\"trento.geojson\",driver=\"GeoJSON\")"
   ]
  },
  {
   "cell_type": "code",
   "execution_count": 25,
   "metadata": {},
   "outputs": [],
   "source": [
    "comuni5k  = comuni_trentini[comuni_trentini.POPOLAZIONE <= 5000]"
   ]
  },
  {
   "cell_type": "code",
   "execution_count": 26,
   "metadata": {},
   "outputs": [],
   "source": [
    "os.chdir('data')\n",
    "geojson_files = glob.glob(\"*.geojson\")\n",
    "os.chdir(\"..\")\n",
    "areasdata = \"data\" + os.sep + \"areas30km\"\n",
    "if not os.path.exists(areasdata):\n",
    "    os.makedirs(areasdata)"
   ]
  },
  {
   "cell_type": "code",
   "execution_count": 50,
   "metadata": {},
   "outputs": [],
   "source": [
    "confine_verona = gpd.read_file('data' + os.sep + \"verona.geojson\")\n",
    "confine_belluno = gpd.read_file('data' + os.sep + \"belluno.geojson\")\n",
    "confine_bolzano = gpd.read_file('data' + os.sep + 'bolzano.geojson')\n",
    "exclude = []\n",
    "exclude.append(\"verona\")\n",
    "exclude.append(\"belluno\")\n",
    "exclude.append(\"bolzano\")"
   ]
  },
  {
   "cell_type": "code",
   "execution_count": 47,
   "metadata": {},
   "outputs": [],
   "source": [
    "def getGeometry(comune_id):\n",
    "    geocomune = comuni5k[comuni5k.PRO_COM_T == comune_id]\n",
    "    geocomune30k = gpd.read_file('data' + os.sep + comune_id + \".geojson\")\n",
    "    unionecomune30k = gpd.overlay(geocomune30k, geocomune, how='union').dissolve()\n",
    "    unionecomune30k['CROSSTN'] = 0\n",
    "    unionecomune30k['OUTSIDE'] = 0\n",
    "    unionecomune30k['CROSSBL'] = 0\n",
    "    unionecomune30k['CROSSBZ'] = 0\n",
    "    area = unionecomune30k.geometry[unionecomune30k.index[0]]\n",
    "    trento = confine_trento.geometry[confine_trento.index[0]]\n",
    "    verona = confine_verona.geometry[confine_verona.index[0]]\n",
    "    belluno = confine_belluno.geometry[confine_belluno.index[0]]\n",
    "    bolzano = confine_bolzano.geometry[confine_bolzano.index[0]]\n",
    "    provincia = confini_pat.geometry[confini_pat.index[0]]\n",
    "    if (area.intersects(trento)):\n",
    "        unionecomune30k = gpd.overlay(unionecomune30k,confine_trento,how='difference')\n",
    "        unionecomune30k['CROSSTN'] = 1\n",
    "    if (area.intersects(verona)):\n",
    "        unionecomune30k = gpd.overlay(unionecomune30k,confine_verona,how='difference')\n",
    "        unionecomune30k['CROSSVR'] = 1\n",
    "    if (area.intersects(belluno)):\n",
    "        unionecomune30k = gpd.overlay(unionecomune30k,confine_belluno,how=\"difference\")\n",
    "        unionecomune30k['CROSSBL'] = 1\n",
    "    if (area.intersects(bolzano)):\n",
    "        unionecomune30k = gpd.overlay(unionecomune30k,confine_bolzano,how=\"difference\")\n",
    "        unionecomune30k['CROSSBZ'] = 1\n",
    "    if (area.intersects(provincia)):\n",
    "        unionecomune30k['OUTSIDE'] = 1\n",
    "    return(unionecomune30k[['geometry','COMUNE','PRO_COM_T','CROSSTN','CROSSBL','CROSSBZ']])"
   ]
  },
  {
   "cell_type": "code",
   "execution_count": 53,
   "metadata": {},
   "outputs": [
    {
     "output_type": "stream",
     "name": "stdout",
     "text": [
      "022182\n",
      "022183\n",
      "022180\n"
     ]
    }
   ],
   "source": [
    "for geojson in geojson_files:\n",
    "    comune_id = geojson.replace(\".geojson\",\"\")\n",
    "    if ((comune_id in exclude) == False):\n",
    "        filesize = os.stat(\"data\" + os.sep + geojson).st_size\n",
    "        if filesize > 194:\n",
    "            newgeom = getGeometry(comune_id)\n",
    "            filename = areasdata + os.sep + comune_id + \".geojson\"\n",
    "            newgeom.to_file(filename,driver=\"GeoJSON\")\n",
    "        else:\n",
    "            print(comune_id)"
   ]
  },
  {
   "cell_type": "code",
   "execution_count": 54,
   "metadata": {},
   "outputs": [
    {
     "output_type": "stream",
     "name": "stdout",
     "text": [
      "022124\n"
     ]
    }
   ],
   "source": [
    "print(comune_id)"
   ]
  },
  {
   "source": [
    "newgeom.plot()"
   ],
   "cell_type": "code",
   "metadata": {},
   "execution_count": 55,
   "outputs": [
    {
     "output_type": "execute_result",
     "data": {
      "text/plain": [
       "                                            geometry        COMUNE PRO_COM_T  \\\n",
       "0  MULTIPOLYGON (((10.89726 45.83042, 10.89680 45...  Nago-Torbole    022124   \n",
       "\n",
       "   CROSSTN  CROSSBL  CROSSBZ  \n",
       "0        1        0        0  "
      ],
      "text/html": "<div>\n<style scoped>\n    .dataframe tbody tr th:only-of-type {\n        vertical-align: middle;\n    }\n\n    .dataframe tbody tr th {\n        vertical-align: top;\n    }\n\n    .dataframe thead th {\n        text-align: right;\n    }\n</style>\n<table border=\"1\" class=\"dataframe\">\n  <thead>\n    <tr style=\"text-align: right;\">\n      <th></th>\n      <th>geometry</th>\n      <th>COMUNE</th>\n      <th>PRO_COM_T</th>\n      <th>CROSSTN</th>\n      <th>CROSSBL</th>\n      <th>CROSSBZ</th>\n    </tr>\n  </thead>\n  <tbody>\n    <tr>\n      <th>0</th>\n      <td>MULTIPOLYGON (((10.89726 45.83042, 10.89680 45...</td>\n      <td>Nago-Torbole</td>\n      <td>022124</td>\n      <td>1</td>\n      <td>0</td>\n      <td>0</td>\n    </tr>\n  </tbody>\n</table>\n</div>"
     },
     "metadata": {},
     "execution_count": 55
    }
   ]
  },
  {
   "cell_type": "code",
   "execution_count": 76,
   "metadata": {},
   "outputs": [
    {
     "output_type": "execute_result",
     "data": {
      "text/plain": [
       "                                            geometry         COMUNE PRO_COM_T  \\\n",
       "0  MULTIPOLYGON (((10.83093 46.05141, 10.82963 46...  Terre d'Adige    022251   \n",
       "\n",
       "   CROSSTN  \n",
       "0        1  "
      ],
      "text/html": "<div>\n<style scoped>\n    .dataframe tbody tr th:only-of-type {\n        vertical-align: middle;\n    }\n\n    .dataframe tbody tr th {\n        vertical-align: top;\n    }\n\n    .dataframe thead th {\n        text-align: right;\n    }\n</style>\n<table border=\"1\" class=\"dataframe\">\n  <thead>\n    <tr style=\"text-align: right;\">\n      <th></th>\n      <th>geometry</th>\n      <th>COMUNE</th>\n      <th>PRO_COM_T</th>\n      <th>CROSSTN</th>\n    </tr>\n  </thead>\n  <tbody>\n    <tr>\n      <th>0</th>\n      <td>MULTIPOLYGON (((10.83093 46.05141, 10.82963 46...</td>\n      <td>Terre d'Adige</td>\n      <td>022251</td>\n      <td>1</td>\n    </tr>\n  </tbody>\n</table>\n</div>"
     },
     "metadata": {},
     "execution_count": 76
    }
   ],
   "source": [
    "a"
   ]
  },
  {
   "cell_type": "code",
   "execution_count": 43,
   "metadata": {},
   "outputs": [],
   "source": [
    "a[['geometry','COMUNE','PRO_COM_TN','CROSSTN']].to_file(\"/tmp/ciapa.shp\")"
   ]
  },
  {
   "cell_type": "code",
   "execution_count": 28,
   "metadata": {},
   "outputs": [],
   "source": [
    "union.to_file(\"union.geojson\",driver=\"GeoJSON\")"
   ]
  }
 ]
}